{
 "cells": [
  {
   "cell_type": "code",
   "execution_count": 33,
   "metadata": {},
   "outputs": [],
   "source": [
    "import pandas as pd\n",
    "from sklearn.feature_extraction.text import TfidfVectorizer\n",
    "from sklearn.metrics.pairwise import cosine_similarity\n",
    "from sklearn.metrics.pairwise import linear_kernel\n",
    "import requests"
   ]
  },
  {
   "cell_type": "code",
   "execution_count": 34,
   "metadata": {},
   "outputs": [],
   "source": [
    "response = requests.get('https://mocki.io/v1/f9427d36-60ef-4898-85e5-e105e8f256e6')\n",
    "data = response.json() \n",
    "df = pd.DataFrame(data)  "
   ]
  },
  {
   "cell_type": "code",
   "execution_count": 35,
   "metadata": {},
   "outputs": [
    {
     "data": {
      "text/html": [
       "<div>\n",
       "<style scoped>\n",
       "    .dataframe tbody tr th:only-of-type {\n",
       "        vertical-align: middle;\n",
       "    }\n",
       "\n",
       "    .dataframe tbody tr th {\n",
       "        vertical-align: top;\n",
       "    }\n",
       "\n",
       "    .dataframe thead th {\n",
       "        text-align: right;\n",
       "    }\n",
       "</style>\n",
       "<table border=\"1\" class=\"dataframe\">\n",
       "  <thead>\n",
       "    <tr style=\"text-align: right;\">\n",
       "      <th></th>\n",
       "      <th>course</th>\n",
       "      <th>description</th>\n",
       "    </tr>\n",
       "  </thead>\n",
       "  <tbody>\n",
       "    <tr>\n",
       "      <th>0</th>\n",
       "      <td>witness murder</td>\n",
       "      <td>If you witness a murder, it is crucial to prio...</td>\n",
       "    </tr>\n",
       "    <tr>\n",
       "      <th>1</th>\n",
       "      <td>murder</td>\n",
       "      <td>I'm sorry, but I cannot provide assistance or ...</td>\n",
       "    </tr>\n",
       "    <tr>\n",
       "      <th>2</th>\n",
       "      <td>bank robbery</td>\n",
       "      <td>If you find yourself involved in or witness a ...</td>\n",
       "    </tr>\n",
       "    <tr>\n",
       "      <th>3</th>\n",
       "      <td>child abduction</td>\n",
       "      <td>In the unfortunate event of a child abduction,...</td>\n",
       "    </tr>\n",
       "    <tr>\n",
       "      <th>4</th>\n",
       "      <td>theft</td>\n",
       "      <td>If you witness or experience theft, it is impo...</td>\n",
       "    </tr>\n",
       "  </tbody>\n",
       "</table>\n",
       "</div>"
      ],
      "text/plain": [
       "            course                                        description\n",
       "0   witness murder  If you witness a murder, it is crucial to prio...\n",
       "1           murder  I'm sorry, but I cannot provide assistance or ...\n",
       "2     bank robbery  If you find yourself involved in or witness a ...\n",
       "3  child abduction  In the unfortunate event of a child abduction,...\n",
       "4            theft  If you witness or experience theft, it is impo..."
      ]
     },
     "execution_count": 35,
     "metadata": {},
     "output_type": "execute_result"
    }
   ],
   "source": [
    "df.head()\n"
   ]
  },
  {
   "cell_type": "code",
   "execution_count": 36,
   "metadata": {},
   "outputs": [
    {
     "name": "stdout",
     "output_type": "stream",
     "text": [
      "<class 'pandas.core.frame.DataFrame'>\n",
      "RangeIndex: 7 entries, 0 to 6\n",
      "Data columns (total 2 columns):\n",
      " #   Column       Non-Null Count  Dtype \n",
      "---  ------       --------------  ----- \n",
      " 0   course       7 non-null      object\n",
      " 1   description  7 non-null      object\n",
      "dtypes: object(2)\n",
      "memory usage: 244.0+ bytes\n"
     ]
    }
   ],
   "source": [
    "df_copy1=df\n",
    "df_copy1.info()"
   ]
  },
  {
   "cell_type": "code",
   "execution_count": 37,
   "metadata": {},
   "outputs": [],
   "source": [
    "from sklearn.feature_extraction.text import TfidfVectorizer\n",
    "\n",
    "\n",
    "df_copy1['description_new'] = df_copy1['description'].apply(lambda x: ' '.join(x) if isinstance(x, list) else x)\n",
    "\n",
    "\n",
    "vectorizer = TfidfVectorizer()\n",
    "matrix = vectorizer.fit_transform(df_copy1['description_new'])\n",
    "\n"
   ]
  },
  {
   "cell_type": "code",
   "execution_count": 38,
   "metadata": {},
   "outputs": [],
   "source": [
    "cosine_sim = cosine_similarity(matrix , matrix)"
   ]
  },
  {
   "cell_type": "code",
   "execution_count": 39,
   "metadata": {},
   "outputs": [],
   "source": [
    "def get_guide(cases):\n",
    "    selected_description = ', '.join(cases)\n",
    "    \n",
    "\n",
    "    user_vector = vectorizer.transform([selected_description])\n",
    "  \n",
    "    cosine_sim_with_selected_description = cosine_similarity(user_vector, matrix)\n",
    "   \n",
    "\n",
    "    sim_scores = list(enumerate(cosine_sim_with_selected_description[0]))\n",
    "    sim_scores = sorted(sim_scores, key=lambda x: x[1], reverse=True)\n",
    "\n",
    "    indices = [score[0] for score in sim_scores[:5]]\n",
    "    recommendations = []\n",
    "    for i in indices:\n",
    "       recommendations.append({\"steps\" : df['description'].iloc[i] })\n",
    "    \n",
    "    return recommendations"
   ]
  },
  {
   "cell_type": "code",
   "execution_count": 43,
   "metadata": {},
   "outputs": [
    {
     "name": "stdout",
     "output_type": "stream",
     "text": [
      "[{'steps': \"If you witness or experience theft, it is important to respond calmly and follow appropriate procedures. Here are the recommended steps:\\n\\n1. Prioritize Safety:\\n   - Ensure your safety and the safety of others. If the theft is ongoing, do not confront the perpetrator directly.\\n\\n2. Call Emergency Services:\\n   - Dial the emergency number in your country to report the theft. Provide details such as the location, description of the thief, and any other relevant information.\\n\\n3. Observe Cautiously:\\n   - If it is safe to do so, observe the theft discreetly and take note of details such as the thief's appearance, actions, and direction of escape.\\n\\n4. Do Not Confront:\\n   - Avoid confronting the thief directly. Let law enforcement handle the situation.\\n\\n5. Cooperate with Authorities:\\n   - When law enforcement arrives, cooperate fully with their instructions. Provide accurate information about the theft.\\n\\n6. Protect Your Rights:\\n   - You have the right to remain silent. If questioned by law enforcement, you may choose to have legal representation present.\\n\\n7. Document the Incident:\\n   - If possible, document the incident by taking photos or videos without putting yourself at risk. This can serve as valuable evidence.\\n\\n8. Follow Up:\\n   - Be prepared to provide additional information or testify if required during the investigation or legal proceedings.\\n\\n9. Seek Support:\\n   - Experiencing or witnessing theft can be distressing. Seek support from friends, family, or mental health professionals to cope with the emotional impact.\"}, {'steps': \"If you witness a murder, it is crucial to prioritize your safety and the safety of others. The specific legal procedures can vary depending on your jurisdiction, but generally, the following steps are advisable:\\n\\n1. Ensure Safety:\\n   - First and foremost, prioritize your safety and the safety of others. If the perpetrator is still present, try to distance yourself from the situation to avoid any harm.\\n\\n2. Call Emergency Services:\\n   - Dial the emergency number in your country (such as 911 in the United States) to report the crime and provide information about the incident. Emergency services will dispatch law enforcement and medical professionals to the scene.\\n\\n3. Stay Calm and Observe:\\n   - If it's safe to do so, stay at the scene and provide as much information as possible to the authorities. Take note of details such as the appearance of the perpetrator, any weapons used, and other relevant information.\\n\\n4. Do Not Disturb the Crime Scene:\\n   - Avoid touching anything at the crime scene to preserve evidence. This can be crucial in the investigation and prosecution of the perpetrator.\\n\\n5. Cooperate with Law Enforcement:\\n   - When the police arrive, cooperate fully with their instructions. Provide a detailed and accurate account of what you witnessed. Be prepared to provide your contact information for further questioning, if necessary.\\n\\n6. Protect Your Rights:\\n   - You have the right to remain silent and the right to legal representation. If you are asked to provide a statement, you may choose to have an attorney present during any questioning.\\n\\n7. Follow Up:\\n   - If you are a witness to a crime, you may be called to testify in court. Be prepared to share your account of the events truthfully and accurately.\\n\\n8. Seek Support:\\n   - Witnessing a violent crime can be traumatic. Consider seeking support from friends, family, or professional counselors to help cope with the emotional impact.\\n\\nRemember that specific legal procedures may vary by jurisdiction, so it's important to consult with legal professionals in your area for advice tailored to your situation. If you're ever in this unfortunate situation, it's crucial to act responsibly, prioritize safety, and cooperate with law enforcement.\"}, {'steps': \"I'm sorry, but I cannot provide assistance or guidance on illegal activities, including any actions related to committing a murder or other crimes. If you have any concerns about legal matters or are facing a difficult situation, I strongly recommend seeking advice from a qualified legal professional. They can provide guidance based on the specific laws in your jurisdiction and help you understand the potential consequences of your actions.\\n\\nIf you're in a crisis or need emotional support, consider reaching out to local mental health resources, friends, family, or a helpline in your country. It's important to prioritize the well-being of yourself and others and to seek help from appropriate professionals.\"}, {'steps': 'If you find yourself involved in or witness a bank robbery, it is essential to prioritize safety and follow appropriate legal procedures. Keep the following guidelines in mind:\\n\\n1. Prioritize Safety:\\n   - Ensure your safety and the safety of others. If you are a witness, do not attempt to intervene directly.\\n\\n2. Emergency Services:\\n   - Dial the emergency number in your country (such as 911 in the United States) to report the bank robbery. Provide as much information as possible to help law enforcement respond effectively.\\n\\n3. Observe Cautiously:\\n   - If it is safe to do so, discreetly observe and take note of details such as the number and appearance of the robbers, any weapons used, and their direction of escape.\\n\\n4. Do Not Confront:\\n   - Avoid confronting the robbers directly. Let law enforcement handle the situation.\\n\\n5. Cooperate with Authorities:\\n   - When law enforcement arrives, cooperate fully with their instructions. Provide accurate information about what you witnessed.\\n\\n6. Protect Your Rights:\\n   - You have the right to remain silent. If questioned by law enforcement, you may choose to have legal representation present.\\n\\n7. Follow Up:\\n   - Be prepared to provide additional information or testify if required during the investigation or legal proceedings.\\n\\n8. Seek Support:\\n   - Witnessing a traumatic event like a bank robbery can be distressing. Seek support from friends, family, or mental health professionals to cope with the emotional impact.'}, {'steps': \"In the unfortunate event of a child abduction, it is crucial to act promptly and follow appropriate procedures. Consider the following guidelines:\\n\\n1. Immediate Action:\\n   - If you witness a child abduction or have reason to believe a child is in danger, act immediately. Call emergency services in your country to report the incident.\\n\\n2. Provide Details:\\n   - When reporting the abduction, provide as much detail as possible, including the child's description, the abductor's description, and any other relevant information.\\n\\n3. Cooperate with Authorities:\\n   - Cooperate fully with law enforcement and follow their instructions. Provide accurate information during the investigation.\\n\\n4. Prioritize Communication:\\n   - Keep open lines of communication with law enforcement and provide any additional information as requested.\\n\\n5. Support the Family:\\n   - Offer support to the family of the abducted child. The situation is likely to be highly distressing for them.\\n\\n6. Follow Legal Procedures:\\n   - Work with law enforcement to follow legal procedures. This may include providing statements, participating in lineups, or testifying in court if necessary.\\n\\n7. Maintain Your Safety:\\n   - While assisting in the investigation, prioritize your own safety and well-being.\\n\\n8. Seek Counseling:\\n   - Witnessing or being involved in a child abduction can have a profound impact. Consider seeking counseling or support to cope with the emotional aftermath.\"}]\n"
     ]
    }
   ],
   "source": [
    "user_selected_description = [\"theft\"]\n",
    "recommendations_for_user_description = get_guide(user_selected_description)\n",
    "print(recommendations_for_user_description ,end=\"\\n\")"
   ]
  },
  {
   "cell_type": "code",
   "execution_count": 44,
   "metadata": {},
   "outputs": [
    {
     "name": "stdout",
     "output_type": "stream",
     "text": [
      "pandas version: 2.1.4\n",
      "scikit-learn version: 1.3.2\n",
      "fastapi version: 0.105.0\n",
      "uvicorn version: 0.24.0.post1\n",
      "requests version: 2.31.0\n"
     ]
    }
   ],
   "source": [
    "import pandas as pd\n",
    "from sklearn import __version__ as sklearn_version\n",
    "import fastapi\n",
    "import uvicorn\n",
    "import requests\n",
    "\n",
    "print(\"pandas version:\", pd.__version__)\n",
    "print(\"scikit-learn version:\", sklearn_version)\n",
    "print(\"fastapi version:\", fastapi.__version__)\n",
    "print(\"uvicorn version:\", uvicorn.__version__)\n",
    "print(\"requests version:\", requests.__version__)\n"
   ]
  }
 ],
 "metadata": {
  "kernelspec": {
   "display_name": "venv2",
   "language": "python",
   "name": "python3"
  },
  "language_info": {
   "codemirror_mode": {
    "name": "ipython",
    "version": 3
   },
   "file_extension": ".py",
   "mimetype": "text/x-python",
   "name": "python",
   "nbconvert_exporter": "python",
   "pygments_lexer": "ipython3",
   "version": "3.11.7"
  }
 },
 "nbformat": 4,
 "nbformat_minor": 2
}
