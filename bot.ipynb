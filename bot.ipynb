{
 "cells": [
  {
   "cell_type": "code",
   "execution_count": 2,
   "metadata": {},
   "outputs": [],
   "source": [
    "import pandas as pd\n",
    "from sklearn.feature_extraction.text import TfidfVectorizer\n",
    "from sklearn.metrics.pairwise import cosine_similarity\n",
    "from sklearn.metrics.pairwise import linear_kernel\n",
    "import requests"
   ]
  },
  {
   "cell_type": "code",
   "execution_count": 4,
   "metadata": {},
   "outputs": [],
   "source": [
    "response = requests.get('https://workshala-7v7q.onrender.com/internshipData')\n",
    "data = response.json() \n",
    "df = pd.DataFrame(data)  "
   ]
  },
  {
   "cell_type": "code",
   "execution_count": 5,
   "metadata": {},
   "outputs": [
    {
     "data": {
      "text/html": [
       "<div>\n",
       "<style scoped>\n",
       "    .dataframe tbody tr th:only-of-type {\n",
       "        vertical-align: middle;\n",
       "    }\n",
       "\n",
       "    .dataframe tbody tr th {\n",
       "        vertical-align: top;\n",
       "    }\n",
       "\n",
       "    .dataframe thead th {\n",
       "        text-align: right;\n",
       "    }\n",
       "</style>\n",
       "<table border=\"1\" class=\"dataframe\">\n",
       "  <thead>\n",
       "    <tr style=\"text-align: right;\">\n",
       "      <th></th>\n",
       "      <th>_id</th>\n",
       "      <th>company</th>\n",
       "      <th>jobProfile</th>\n",
       "      <th>title</th>\n",
       "      <th>state</th>\n",
       "      <th>work</th>\n",
       "      <th>time</th>\n",
       "      <th>salary</th>\n",
       "      <th>type</th>\n",
       "      <th>description</th>\n",
       "      <th>skills</th>\n",
       "    </tr>\n",
       "  </thead>\n",
       "  <tbody>\n",
       "    <tr>\n",
       "      <th>0</th>\n",
       "      <td>65549f3a90068b47b2ff0af2</td>\n",
       "      <td>Amazon</td>\n",
       "      <td>Software Developer Intern</td>\n",
       "      <td>Developing Applications</td>\n",
       "      <td>Andhra Pradesh</td>\n",
       "      <td>Home</td>\n",
       "      <td>20 weeks</td>\n",
       "      <td>6000/week</td>\n",
       "      <td>Internship</td>\n",
       "      <td>Company seeks an intern with experience in sof...</td>\n",
       "      <td>[Java, .net, Problem Solving, SQL]</td>\n",
       "    </tr>\n",
       "    <tr>\n",
       "      <th>1</th>\n",
       "      <td>6554a00290068b47b2ff0af3</td>\n",
       "      <td>Google</td>\n",
       "      <td>IT Intern</td>\n",
       "      <td>Support the IT team in maintaining software.</td>\n",
       "      <td>Telangana</td>\n",
       "      <td>Home</td>\n",
       "      <td>12 weeks</td>\n",
       "      <td>5000/week</td>\n",
       "      <td>Internship</td>\n",
       "      <td>Engineering company known for innovative techn...</td>\n",
       "      <td>[Pyhton, HTML, Javascript, MS Office]</td>\n",
       "    </tr>\n",
       "    <tr>\n",
       "      <th>2</th>\n",
       "      <td>6554a00990068b47b2ff0af4</td>\n",
       "      <td>Microsoft</td>\n",
       "      <td>Software Engineering Intern</td>\n",
       "      <td>Document and test new software applications</td>\n",
       "      <td>Telangana</td>\n",
       "      <td>Home</td>\n",
       "      <td>24 weeks</td>\n",
       "      <td>6000/week</td>\n",
       "      <td>Internship</td>\n",
       "      <td>We frequently work in small teams to solve pro...</td>\n",
       "      <td>[Java, OOPS, DSA, Database Management]</td>\n",
       "    </tr>\n",
       "    <tr>\n",
       "      <th>3</th>\n",
       "      <td>6554a01090068b47b2ff0af5</td>\n",
       "      <td>Walmart</td>\n",
       "      <td>Marketing Intern</td>\n",
       "      <td>Perform analysis of marketing and sales data</td>\n",
       "      <td>Haryana</td>\n",
       "      <td>Home</td>\n",
       "      <td>12 weeks</td>\n",
       "      <td>4000/week</td>\n",
       "      <td>Internship</td>\n",
       "      <td>Company is looking for a qualified intern to j...</td>\n",
       "      <td>[Communication, Social Media Marketing, Analyt...</td>\n",
       "    </tr>\n",
       "    <tr>\n",
       "      <th>4</th>\n",
       "      <td>6554a01890068b47b2ff0af6</td>\n",
       "      <td>Flipkart</td>\n",
       "      <td>HR Intern</td>\n",
       "      <td>Collect and update our database with new hire ...</td>\n",
       "      <td>Tamil Nadu</td>\n",
       "      <td>Home</td>\n",
       "      <td>16 weeks</td>\n",
       "      <td>5000/week</td>\n",
       "      <td>Internship</td>\n",
       "      <td>Fast-growing marketing agency seeks a personab...</td>\n",
       "      <td>[Data Analysis, Project Management, LMS, Commu...</td>\n",
       "    </tr>\n",
       "  </tbody>\n",
       "</table>\n",
       "</div>"
      ],
      "text/plain": [
       "                        _id    company                   jobProfile  \\\n",
       "0  65549f3a90068b47b2ff0af2     Amazon    Software Developer Intern   \n",
       "1  6554a00290068b47b2ff0af3     Google                    IT Intern   \n",
       "2  6554a00990068b47b2ff0af4  Microsoft  Software Engineering Intern   \n",
       "3  6554a01090068b47b2ff0af5    Walmart             Marketing Intern   \n",
       "4  6554a01890068b47b2ff0af6   Flipkart                    HR Intern   \n",
       "\n",
       "                                               title           state  work  \\\n",
       "0                            Developing Applications  Andhra Pradesh  Home   \n",
       "1       Support the IT team in maintaining software.       Telangana  Home   \n",
       "2        Document and test new software applications       Telangana  Home   \n",
       "3       Perform analysis of marketing and sales data         Haryana  Home   \n",
       "4  Collect and update our database with new hire ...      Tamil Nadu  Home   \n",
       "\n",
       "       time     salary        type  \\\n",
       "0  20 weeks  6000/week  Internship   \n",
       "1  12 weeks  5000/week  Internship   \n",
       "2  24 weeks  6000/week  Internship   \n",
       "3  12 weeks  4000/week  Internship   \n",
       "4  16 weeks  5000/week  Internship   \n",
       "\n",
       "                                         description  \\\n",
       "0  Company seeks an intern with experience in sof...   \n",
       "1  Engineering company known for innovative techn...   \n",
       "2  We frequently work in small teams to solve pro...   \n",
       "3  Company is looking for a qualified intern to j...   \n",
       "4  Fast-growing marketing agency seeks a personab...   \n",
       "\n",
       "                                              skills  \n",
       "0                 [Java, .net, Problem Solving, SQL]  \n",
       "1              [Pyhton, HTML, Javascript, MS Office]  \n",
       "2             [Java, OOPS, DSA, Database Management]  \n",
       "3  [Communication, Social Media Marketing, Analyt...  \n",
       "4  [Data Analysis, Project Management, LMS, Commu...  "
      ]
     },
     "execution_count": 5,
     "metadata": {},
     "output_type": "execute_result"
    }
   ],
   "source": [
    "df.head()\n"
   ]
  },
  {
   "cell_type": "code",
   "execution_count": 7,
   "metadata": {},
   "outputs": [
    {
     "name": "stdout",
     "output_type": "stream",
     "text": [
      "<class 'pandas.core.frame.DataFrame'>\n",
      "RangeIndex: 16 entries, 0 to 15\n",
      "Data columns (total 11 columns):\n",
      " #   Column       Non-Null Count  Dtype \n",
      "---  ------       --------------  ----- \n",
      " 0   _id          16 non-null     object\n",
      " 1   company      16 non-null     object\n",
      " 2   jobProfile   16 non-null     object\n",
      " 3   title        16 non-null     object\n",
      " 4   state        16 non-null     object\n",
      " 5   work         16 non-null     object\n",
      " 6   time         16 non-null     object\n",
      " 7   salary       16 non-null     object\n",
      " 8   type         16 non-null     object\n",
      " 9   description  16 non-null     object\n",
      " 10  skills       16 non-null     object\n",
      "dtypes: object(11)\n",
      "memory usage: 1.5+ KB\n"
     ]
    }
   ],
   "source": [
    "df_copy1=df\n",
    "df_copy1.info()"
   ]
  },
  {
   "cell_type": "code",
   "execution_count": 9,
   "metadata": {},
   "outputs": [],
   "source": [
    "from sklearn.feature_extraction.text import TfidfVectorizer\n",
    "\n",
    "\n",
    "df_copy1['description_new'] = df_copy1['description'].apply(lambda x: ' '.join(x) if isinstance(x, list) else x)\n",
    "\n",
    "\n",
    "vectorizer = TfidfVectorizer()\n",
    "matrix = vectorizer.fit_transform(df_copy1['description_new'])\n",
    "\n"
   ]
  },
  {
   "cell_type": "code",
   "execution_count": 10,
   "metadata": {},
   "outputs": [],
   "source": [
    "cosine_sim = cosine_similarity(matrix , matrix)"
   ]
  },
  {
   "cell_type": "code",
   "execution_count": 13,
   "metadata": {},
   "outputs": [],
   "source": [
    "def get_guide(cases):\n",
    "    selected_description = ', '.join(cases)\n",
    "    \n",
    "\n",
    "    user_vector = vectorizer.transform([selected_description])\n",
    "  \n",
    "    cosine_sim_with_selected_description = cosine_similarity(user_vector, matrix)\n",
    "   \n",
    "\n",
    "    sim_scores = list(enumerate(cosine_sim_with_selected_description[0]))\n",
    "    sim_scores = sorted(sim_scores, key=lambda x: x[1], reverse=True)\n",
    "\n",
    "    indices = [score[0] for score in sim_scores[:5]]\n",
    "    recommendations = []\n",
    "    for i in indices:\n",
    "       recommendations.append({\"steps\" : df['description'].iloc[i] })\n",
    "    \n",
    "    return recommendations"
   ]
  },
  {
   "cell_type": "code",
   "execution_count": 14,
   "metadata": {},
   "outputs": [
    {
     "name": "stdout",
     "output_type": "stream",
     "text": [
      "[{'steps': 'Company seeks an intern with experience in software design, coding and debugging. The intern will gain exciting real-world software engineering experience at a thriving company.'}, {'steps': 'Engineering company known for innovative technology seeks a self-directed IT intern with a passion for technology, collaboration, and creative problem-solving. The intern will actively contribute to meaningful projects and work closely with a mentor and with senior leadership.'}, {'steps': 'We frequently work in small teams to solve problems, explore new technologies, and learn from one another. The ideal intern for this environment will be enthusiastic and collaborative.'}, {'steps': 'Company is looking for a qualified intern to join our marketing/advertising team. Our marketing department produces quality work for major companies in the Boston area and seeks an intern who can participate in various stages of print and online marketing campaigns.'}, {'steps': 'Fast-growing marketing agency seeks a personable and highly motivated HR intern to support the HR manager in day-to-day administrative tasks and activities.'}]\n"
     ]
    }
   ],
   "source": [
    "user_selected_description = [\"AWS\"]\n",
    "recommendations_for_user_description = get_guide(user_selected_description)\n",
    "print(recommendations_for_user_description ,end=\"\\n\")"
   ]
  },
  {
   "cell_type": "code",
   "execution_count": null,
   "metadata": {},
   "outputs": [],
   "source": []
  }
 ],
 "metadata": {
  "kernelspec": {
   "display_name": "venv2",
   "language": "python",
   "name": "python3"
  },
  "language_info": {
   "codemirror_mode": {
    "name": "ipython",
    "version": 3
   },
   "file_extension": ".py",
   "mimetype": "text/x-python",
   "name": "python",
   "nbconvert_exporter": "python",
   "pygments_lexer": "ipython3",
   "version": "3.11.7"
  }
 },
 "nbformat": 4,
 "nbformat_minor": 2
}
